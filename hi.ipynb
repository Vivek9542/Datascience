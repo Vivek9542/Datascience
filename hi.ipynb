{
 "cells": [
  {
   "cell_type": "code",
   "execution_count": 7,
   "id": "a2561d75-9ebd-4d0e-b427-df96fa9903fa",
   "metadata": {},
   "outputs": [
    {
     "name": "stdout",
     "output_type": "stream",
     "text": [
      "vivek\n"
     ]
    }
   ],
   "source": [
    "print (\"vivek\")"
   ]
  },
  {
   "cell_type": "code",
   "execution_count": null,
   "id": "235eb3d4-b9d9-47a9-a6cb-3b4cc0a4fa95",
   "metadata": {},
   "outputs": [],
   "source": []
  },
  {
   "cell_type": "code",
   "execution_count": 5,
   "id": "77178cad-afcb-40c2-a640-0197caab5dd0",
   "metadata": {},
   "outputs": [
    {
     "name": "stdout",
     "output_type": "stream",
     "text": [
      "hi im new\n"
     ]
    }
   ],
   "source": [
    "print (\"hi im new\")"
   ]
  },
  {
   "cell_type": "code",
   "execution_count": null,
   "id": "f721dde0-db94-429b-a970-072e72c3f7f8",
   "metadata": {},
   "outputs": [],
   "source": []
  }
 ],
 "metadata": {
  "kernelspec": {
   "display_name": "Python 3 (ipykernel)",
   "language": "python",
   "name": "python3"
  },
  "language_info": {
   "codemirror_mode": {
    "name": "ipython",
    "version": 3
   },
   "file_extension": ".py",
   "mimetype": "text/x-python",
   "name": "python",
   "nbconvert_exporter": "python",
   "pygments_lexer": "ipython3",
   "version": "3.12.4"
  }
 },
 "nbformat": 4,
 "nbformat_minor": 5
}
